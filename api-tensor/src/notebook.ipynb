{
 "cells": [
  {
   "cell_type": "markdown",
   "metadata": {},
   "source": [
    "# API-Tensor\n",
    "Using Tensorflow2 Machine Learning to automate API execution. API Tensors allow you to fully automate the API execution process.\n",
    "\n",
    "This project aims at allowing developers to automate the API Automation process. Instead of writing, wiring, and maintaining API inputs, use Tensorflow and OpenAI Gym to 'learn' which data correlates to an API endpoints' input(s) -- powered by Artificial Intelligence.\n",
    "\n",
    "In short, using OpenAI Gym, API-Tensor will repeatedly execute an endpoint using random values from a supplied list of possible values.\n",
    "\n"
   ]
  },
  {
   "cell_type": "markdown",
   "metadata": {},
   "source": [
    "# Scenario\n",
    "\n",
    "In this scenario, we will attempt to authenticate with our API with only knowing which table(s) in the database that required inputs come from.\n",
    "\n",
    "In this case, we know that data comes from the 'users' and 'user_types' table(s).\n",
    "\n",
    "Our endpoint requires two parameters (which do not match our table column names):\n",
    "\n",
    "1. Username\n",
    "2. Password\n",
    "\n",
    "---\n",
    "\n",
    "Users\n",
    "\n",
    "| FIRST_NAME  | LAST_NAME   | USER_NAME   | AUTH_PASSWORD |\n",
    "| ----------- | ----------- | ----------- | -----------   |\n",
    "| ...         | ...         | ...         | ...           |\n",
    "\n",
    "User_Types\n",
    "| USER_TYPE  | USER_TYPE_ID |\n",
    "| ----------- | ----------- |\n",
    "| ...         | ...         |\n",
    "\n",
    "Let's use OpenAI Gym to train our model to efficiently determine the best combination of data to get a successful endpoint response."
   ]
  },
  {
   "cell_type": "markdown",
   "metadata": {},
   "source": [
    "# Import Dependencies"
   ]
  },
  {
   "cell_type": "code",
   "execution_count": 1,
   "metadata": {},
   "outputs": [],
   "source": [
    "import pandas as pd\n",
    "import flatdict\n",
    "\n",
    "from endpoint import APIEndpoint\n",
    "from envs.api_env import APIEnv"
   ]
  },
  {
   "cell_type": "markdown",
   "metadata": {},
   "source": [
    "# Goal\n",
    "\n",
    "Let's start by defining our end-goal. This will let the model know that a certain combination of data is 0 or 1 (negative, positive)."
   ]
  },
  {
   "cell_type": "code",
   "execution_count": 2,
   "metadata": {},
   "outputs": [],
   "source": [
    "def _goal_callback(resp: flatdict):\n",
    "    try:\n",
    "        # Endpoint response\n",
    "        # Web Server JSON Response\n",
    "        return resp['Success'] == True\n",
    "    except:\n",
    "        return False"
   ]
  },
  {
   "cell_type": "markdown",
   "metadata": {},
   "source": [
    "# Gathering Data\n",
    "\n",
    "In most cases, you are likely going to be using some type of relational database (since inputs require some sort of relation in order to guess). Any database or dataset should work so long as it can be converted to CSV or other Pandas supported format.\n",
    "\n",
    "In this example, we will be using in-memory Pandas DataFrame. \n",
    "\n",
    "> Converting your SQL tables to Pandas DataFrame is extremely simple.\n",
    "\n",
    "Users\n",
    "\n",
    "| FIRST_NAME  | LAST_NAME   | USER_NAME   | AUTH_PASSWORD |\n",
    "| ----------- | ----------- | ----------- | -----------   |\n",
    "| ...         | ...         | ...         | ...           |\n",
    "\n",
    "User_Types\n",
    "\n",
    "| USER_TYPE  | USER_TYPE_ID |\n",
    "| ----------- | ----------- |\n",
    "| ...         | ...         |"
   ]
  },
  {
   "cell_type": "code",
   "execution_count": 3,
   "metadata": {},
   "outputs": [],
   "source": [
    "data_users_columns = ['FIRST_NAME', 'LAST_NAME',\n",
    "                      'USER_NAME', 'AUTH_PASSWORD']\n",
    "\n",
    "data_acctype_columns = ['ACC_TYPE_DESC', 'ACC_TYPE_ID']\n",
    "\n",
    "data_users = [\n",
    "    [\"Montray\", \"Davis\", \"@MontrayDavis\", 'abc123'],\n",
    "    [\"Montray\", \"Davis\", \"@DemoUser1\", 'abc456'],\n",
    "    [\"Montray\", \"Davis\", \"@DemoUser2\", 'abc789']\n",
    "]\n",
    "\n",
    "data_account_types = [\n",
    "    ['Administrator', 0],\n",
    "    ['Standard User', 1]\n",
    "]\n",
    "\n",
    "db = pd.DataFrame(data_users, columns=data_users_columns)\n",
    "db_acctypes = pd.DataFrame(data_account_types, columns=data_acctype_columns)\n",
    "\n",
    "db = pd.concat([db, db_acctypes])"
   ]
  },
  {
   "cell_type": "markdown",
   "metadata": {},
   "source": [
    "# Define our endpoint\n",
    "\n",
    "Let's define our API endpoint.\n",
    "\n",
    "> For now, API-Tensor only supports simple HTTP POST verbs.\n",
    "\n",
    "In this scenario, we are using a simple post which requires a payload of the following format:\n",
    "\n",
    "```\n",
    "{\n",
    "    Username: string,\n",
    "    Password: string\n",
    "}\n",
    "```\n",
    "\n",
    "You can find the working node-js sample in the external/web-server folder."
   ]
  },
  {
   "cell_type": "code",
   "execution_count": 4,
   "metadata": {},
   "outputs": [],
   "source": [
    "endpoint: APIEndpoint = APIEndpoint(\n",
    "    \"http://localhost:8081/login\", [\"Username\", \"Password\"], \"POST\", {})\n"
   ]
  },
  {
   "cell_type": "markdown",
   "metadata": {},
   "source": [
    "# Create the environment"
   ]
  },
  {
   "cell_type": "code",
   "execution_count": 5,
   "metadata": {},
   "outputs": [],
   "source": [
    "env = APIEnv(endpoint, db, goal_callback=_goal_callback)"
   ]
  },
  {
   "cell_type": "markdown",
   "metadata": {},
   "source": [
    "# Learning\n",
    "\n",
    "This is where our model learns which inputs correlate with the provided data."
   ]
  },
  {
   "cell_type": "code",
   "execution_count": 6,
   "metadata": {},
   "outputs": [
    {
     "name": "stdout",
     "output_type": "stream",
     "text": [
      "Epoch 1/15\n",
      "WARNING:tensorflow:Layers in a Sequential model should only have a single input tensor. Received: inputs={'label_0': <tf.Tensor 'IteratorGetNext:0' shape=(None,) dtype=int64>, 'label_1': <tf.Tensor 'IteratorGetNext:1' shape=(None,) dtype=int64>}. Consider rewriting this model with the Functional API.\n",
      "WARNING:tensorflow:Layers in a Sequential model should only have a single input tensor. Received: inputs={'label_0': <tf.Tensor 'IteratorGetNext:0' shape=(None,) dtype=int64>, 'label_1': <tf.Tensor 'IteratorGetNext:1' shape=(None,) dtype=int64>}. Consider rewriting this model with the Functional API.\n",
      "1000/1000 [==============================] - 4s 3ms/step - loss: 0.0377 - accuracy: 0.9630\n",
      "Epoch 2/15\n",
      "1000/1000 [==============================] - 3s 3ms/step - loss: 0.0310 - accuracy: 0.9690\n",
      "Epoch 3/15\n",
      "1000/1000 [==============================] - 3s 3ms/step - loss: 0.0310 - accuracy: 0.9690\n",
      "Epoch 4/15\n",
      "1000/1000 [==============================] - 3s 3ms/step - loss: 0.0310 - accuracy: 0.9690\n",
      "Epoch 5/15\n",
      "1000/1000 [==============================] - 3s 3ms/step - loss: 0.0307 - accuracy: 0.9690\n",
      "Epoch 6/15\n",
      "1000/1000 [==============================] - 3s 3ms/step - loss: 0.0264 - accuracy: 0.9690\n",
      "Epoch 7/15\n",
      "1000/1000 [==============================] - 3s 3ms/step - loss: 0.0222 - accuracy: 0.9690\n",
      "Epoch 8/15\n",
      "1000/1000 [==============================] - 3s 3ms/step - loss: 0.0200 - accuracy: 0.9690\n",
      "Epoch 9/15\n",
      "1000/1000 [==============================] - 3s 3ms/step - loss: 0.0157 - accuracy: 0.9690\n",
      "Epoch 10/15\n",
      "1000/1000 [==============================] - 3s 3ms/step - loss: 0.0116 - accuracy: 0.9830\n",
      "Epoch 11/15\n",
      "1000/1000 [==============================] - 3s 3ms/step - loss: 0.0074 - accuracy: 0.9950\n",
      "WARNING:tensorflow:Layers in a Sequential model should only have a single input tensor. Received: inputs={'label_0': <tf.Tensor 'label_0:0' shape=(None,) dtype=int64>, 'label_1': <tf.Tensor 'label_1:0' shape=(None,) dtype=int64>}. Consider rewriting this model with the Functional API.\n",
      "WARNING:tensorflow:Layers in a Sequential model should only have a single input tensor. Received: inputs={'label_0': <tf.Tensor 'inputs:0' shape=(None,) dtype=int64>, 'label_1': <tf.Tensor 'inputs_1:0' shape=(None,) dtype=int64>}. Consider rewriting this model with the Functional API.\n",
      "WARNING:tensorflow:Layers in a Sequential model should only have a single input tensor. Received: inputs={'label_0': <tf.Tensor 'inputs:0' shape=(None,) dtype=int64>, 'label_1': <tf.Tensor 'inputs_1:0' shape=(None,) dtype=int64>}. Consider rewriting this model with the Functional API.\n",
      "WARNING:tensorflow:Layers in a Sequential model should only have a single input tensor. Received: inputs={'label_0': <tf.Tensor 'label_0:0' shape=(None,) dtype=int64>, 'label_1': <tf.Tensor 'label_1:0' shape=(None,) dtype=int64>}. Consider rewriting this model with the Functional API.\n",
      "WARNING:tensorflow:Layers in a Sequential model should only have a single input tensor. Received: inputs={'label_0': <tf.Tensor 'label_0:0' shape=(None,) dtype=int64>, 'label_1': <tf.Tensor 'label_1:0' shape=(None,) dtype=int64>}. Consider rewriting this model with the Functional API.\n",
      "WARNING:tensorflow:Layers in a Sequential model should only have a single input tensor. Received: inputs={'label_0': <tf.Tensor 'inputs/label_0:0' shape=(None,) dtype=int64>, 'label_1': <tf.Tensor 'inputs/label_1:0' shape=(None,) dtype=int64>}. Consider rewriting this model with the Functional API.\n",
      "WARNING:tensorflow:Layers in a Sequential model should only have a single input tensor. Received: inputs={'label_0': <tf.Tensor 'inputs/label_0:0' shape=(None,) dtype=int64>, 'label_1': <tf.Tensor 'inputs/label_1:0' shape=(None,) dtype=int64>}. Consider rewriting this model with the Functional API.\n",
      "INFO:tensorflow:Assets written to: ./train/assets\n"
     ]
    }
   ],
   "source": [
    "env.Learn(n_steps=1000, force_end_success=150, delay=0)"
   ]
  },
  {
   "cell_type": "markdown",
   "metadata": {},
   "source": [
    "# Load model and test"
   ]
  },
  {
   "cell_type": "code",
   "execution_count": 7,
   "metadata": {},
   "outputs": [
    {
     "name": "stdout",
     "output_type": "stream",
     "text": [
      "WARNING:tensorflow:Layers in a Sequential model should only have a single input tensor. Received: inputs={'label_0': <tf.Tensor 'IteratorGetNext:0' shape=(None,) dtype=int64>, 'label_1': <tf.Tensor 'IteratorGetNext:1' shape=(None,) dtype=int64>}. Consider rewriting this model with the Functional API.\n",
      "36/36 [==============================] - 0s 3ms/step\n",
      "Best Sequence: [2, 3, 1]\n",
      "['USER_NAME', 'AUTH_PASSWORD']\n"
     ]
    }
   ],
   "source": [
    "data_inputs = env.Run()\n",
    "\n",
    "print(data_inputs)"
   ]
  },
  {
   "cell_type": "markdown",
   "metadata": {},
   "source": [
    "# Successful API Calls"
   ]
  },
  {
   "cell_type": "code",
   "execution_count": 8,
   "metadata": {},
   "outputs": [
    {
     "data": {
      "text/plain": [
       "36"
      ]
     },
     "execution_count": 8,
     "metadata": {},
     "output_type": "execute_result"
    }
   ],
   "source": [
    "len([i for i in env.action_history if i[-1] == 1])"
   ]
  }
 ],
 "metadata": {
  "kernelspec": {
   "display_name": "Python 3.8.0 64-bit",
   "language": "python",
   "name": "python3"
  },
  "language_info": {
   "codemirror_mode": {
    "name": "ipython",
    "version": 3
   },
   "file_extension": ".py",
   "mimetype": "text/x-python",
   "name": "python",
   "nbconvert_exporter": "python",
   "pygments_lexer": "ipython3",
   "version": "3.8.0"
  },
  "orig_nbformat": 4,
  "vscode": {
   "interpreter": {
    "hash": "f3fb129a5bc614a4ddbaa85ce1fb3fcb14b756c15916d3431c3b79fc78b21b72"
   }
  }
 },
 "nbformat": 4,
 "nbformat_minor": 2
}
